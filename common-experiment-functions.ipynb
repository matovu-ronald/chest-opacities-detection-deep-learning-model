{
 "cells": [
  {
   "cell_type": "markdown",
   "source": [
    "## The common experiment functions\n",
    "### The functions are used to perform model optimization & hyper parameters tunning\n",
    "### After the tunning, the best parameters a combined to come up with the best model"
   ],
   "metadata": {
    "collapsed": false
   }
  },
  {
   "cell_type": "code",
   "execution_count": 28,
   "outputs": [],
   "source": [
    "import matplotlib.pyplot as plt\n",
    "from keras.layers import Dense, Dropout, MaxPooling2D, BatchNormalization, Conv2D, Flatten\n",
    "from keras.models import Sequential\n",
    "from keras import optimizers\n",
    "from sklearn.model_selection import train_test_split"
   ],
   "metadata": {
    "collapsed": false,
    "ExecuteTime": {
     "start_time": "2023-05-03T13:27:50.075197Z",
     "end_time": "2023-05-03T13:27:50.082555Z"
    }
   }
  },
  {
   "cell_type": "code",
   "execution_count": 29,
   "outputs": [],
   "source": [
    "#---------------------------------------------------------------------\n",
    "# Function to create a default configuration for our neural network model\n",
    "# The configuration can be overridden while creating the model\n",
    "#\n",
    "def base_model_config():\n",
    "    model_config = {\n",
    "        \"HIDDEN_NODES\" : [32,64],\n",
    "        \"HIDDEN_ACTIVATION\" : \"relu\",\n",
    "        \"OUTPUT_NODES\" : 3,\n",
    "        \"NEAR_OUTPUT_NODES\": 512,\n",
    "        \"OUTPUT_ACTIVATION\" : \"sigmoid\",\n",
    "        \"WEIGHTS_INITIALIZER\" : \"glorot_uniform\",\n",
    "        \"BIAS_INITIALIZER\" : \"zeros\",\n",
    "        \"NORMALIZATION\" : \"none\",\n",
    "        \"OPTIMIZER\" : \"adam\",\n",
    "        \"LEARNING_RATE\" : 0.001,\n",
    "        \"REGULARIZER\" : None,\n",
    "        \"DROPOUT_RATE\" : 0.0,\n",
    "        \"DROPOUT_RATE_LAST_LAYER\": 0.5,\n",
    "        \"EPOCHS\" : 10,\n",
    "        \"BATCH_SIZE\" : 16,\n",
    "        \"VALIDATION_SPLIT\" : 0.2,\n",
    "        \"VERBOSE\" : 0,\n",
    "        \"LOSS_FUNCTION\" : \"binary_crossentropy\",\n",
    "        \"METRICS\" : [\"accuracy\"],\n",
    "        \"PADDING\": \"same\"\n",
    "    }\n",
    "    return model_config"
   ],
   "metadata": {
    "collapsed": false,
    "ExecuteTime": {
     "start_time": "2023-05-03T13:27:50.083604Z",
     "end_time": "2023-05-03T13:27:50.095466Z"
    }
   }
  },
  {
   "cell_type": "code",
   "execution_count": 30,
   "metadata": {
    "collapsed": true,
    "ExecuteTime": {
     "start_time": "2023-05-03T13:27:50.088946Z",
     "end_time": "2023-05-03T13:27:50.095623Z"
    }
   },
   "outputs": [],
   "source": [
    "#---------------------------------------------------------------------\n",
    "# Function to create an optimizer based on the optimizer name and learning rate\n",
    "#---------------------------------------------------------------------\n",
    "def get_optimizer(optimizer_name, learning_rate):\n",
    "    # adagrad, adam, rmsprop, and sgd\n",
    "    optimizer = None\n",
    "\n",
    "    if optimizer_name == \"adagrad\":\n",
    "        optimizer = optimizers.Adagrad(learning_rate=learning_rate)\n",
    "    elif optimizer_name == \"adam\":\n",
    "        optimizer = optimizers.Adam(learning_rate=learning_rate)\n",
    "    elif optimizer_name == \"rmsprop\":\n",
    "        optimizer = optimizers.RMSprop(learning_rate=learning_rate)\n",
    "    else:\n",
    "        optimizer = optimizers.SGD(learning_rate=learning_rate)\n",
    "\n",
    "    return optimizer"
   ]
  },
  {
   "cell_type": "code",
   "execution_count": 31,
   "outputs": [],
   "source": [
    "#---------------------------------------------------------------------\n",
    "# Function to create and fit the deep neural network model\n",
    "#\n",
    "def create_and_run_model(model_config, X, Y, model_name):\n",
    "    model = Sequential(name = model_name)\n",
    "\n",
    "    for layer in range(len(model_config[\"HIDDEN_NODES\"])):\n",
    "        if layer == 0:\n",
    "            model.add(\n",
    "                Conv2D(\n",
    "                    (),\n",
    "                    padding= model_config[\"PADDING\"],\n",
    "                    activation = model_config[\"HIDDEN_ACTIVATION\"],\n",
    "                )\n",
    "            )\n",
    "        else:\n",
    "            if model_config[\"NORMALIZATION\"] == \"batch\":\n",
    "                model.add(BatchNormalization())\n",
    "            if model_config[\"DROPOUT_RATE\"] > 0.0:\n",
    "                model.add(Dropout(model_config[\"DROPOUT_RATE\"]))\n",
    "\n",
    "            model.add(\n",
    "                Conv2D(\n",
    "                    (),\n",
    "                    padding= model_config[\"PADDING\"],\n",
    "                    activation = model_config[\"HIDDEN_ACTIVATION\"],\n",
    "                    # model_config[\"HIDDEN_NODES\"][layer],\n",
    "                    bias_initializer = model_config[\"BIAS_INITIALIZER\"],\n",
    "                    kernel_regularizer = model_config[\"REGULARIZER\"],\n",
    "                    kernel_initializer = model_config[\"WEIGHTS_INITIALIZER\"],\n",
    "                    name=\"Dense-Layer-\" + str(layer),\n",
    "                ),\n",
    "            )\n",
    "            \n",
    "    # Flatten the Conv2D layer output\n",
    "    model.add(Flatten())\n",
    "\n",
    "    # Add Dense near output layer to the model\n",
    "    model.add(\n",
    "        Dense(\n",
    "            model_config[\"NEAR_OUTPUT_NODES\"],\n",
    "            name=\"Near-Output-Layer\",\n",
    "            activation=model_config[\"OUTPUT_ACTIVATION\"]\n",
    "        )\n",
    "    )\n",
    "\n",
    "    # Dropout 50 % of the neural network connection\n",
    "    model.add(Dropout(model_config[\"DROPOUT_RATE_LAST_LAYER\"]))\n",
    "\n",
    "    # Add ouput layer to the model\n",
    "    model.add(\n",
    "        Dense(\n",
    "            model_config[\"OUTPUT_NODES\"],\n",
    "            name=\"Output-Layer\",\n",
    "            activation=model_config[\"OUTPUT_ACTIVATION\"]\n",
    "        )\n",
    "    )\n",
    "\n",
    "    # Get optimizer\n",
    "    optimizer = get_optimizer(model_config[\"OPTIMIZER\"], model_config[\"LEARNING_RATE\"])\n",
    "\n",
    "    # Compile the model\n",
    "    model.compile(\n",
    "        loss = model_config[\"LOSS_FUNCTION\"],\n",
    "        optimizer=optimizer,\n",
    "        metrics=model_config[\"METRICS\"]\n",
    "    )\n",
    "\n",
    "    # Print model Summary\n",
    "    model.summary()\n",
    "\n",
    "    # Split the data into training set and validation set\n",
    "    X_train, x_val, Y_train, y_val = train_test_split(\n",
    "        X,\n",
    "        Y,\n",
    "        stratify= Y,\n",
    "        test_size=model_config[\"VALIDATION_SPLIT\"]\n",
    "    )\n",
    "\n",
    "    # Fit the model\n",
    "    history = model.fit(X_train,\n",
    "                      Y_train,\n",
    "                      batch_size=model_config[\"BATCH_SIZE\"],\n",
    "                      epochs=model_config[\"EPOCHS\"],\n",
    "                      verbose=model_config[\"VERBOSE\"],\n",
    "                      validation_data= (x_val, y_val))\n",
    "\n",
    "    return history\n"
   ],
   "metadata": {
    "collapsed": false,
    "ExecuteTime": {
     "start_time": "2023-05-03T13:27:50.099767Z",
     "end_time": "2023-05-03T13:27:50.101813Z"
    }
   }
  },
  {
   "cell_type": "code",
   "execution_count": 32,
   "outputs": [],
   "source": [
    "#---------------------------------------------------------------------\n",
    "# Function to plot a graph based on the results of the model\n",
    "#---------------------------------------------------------------------\n",
    "\n",
    "def plot_graph(accuracy_measures, title):\n",
    "\n",
    "    plt.figure(figsize=(15, 8))\n",
    "\n",
    "    for experiment in accuracy_measures.keys():\n",
    "        plt.plot(\n",
    "            accuracy_measures[experiment],\n",
    "            label=experiment,\n",
    "            linewidth=3\n",
    "        )\n",
    "\n",
    "    plt.title(title)\n",
    "    plt.xlabel(\"Epochs\")\n",
    "    plt.ylabel(\"Accuracy\")\n",
    "    plt.legend()\n",
    "    plt.show()"
   ],
   "metadata": {
    "collapsed": false,
    "ExecuteTime": {
     "start_time": "2023-05-03T13:27:50.105274Z",
     "end_time": "2023-05-03T13:27:50.106995Z"
    }
   }
  },
  {
   "cell_type": "code",
   "execution_count": 32,
   "outputs": [],
   "source": [],
   "metadata": {
    "collapsed": false,
    "ExecuteTime": {
     "start_time": "2023-05-03T13:27:50.107381Z",
     "end_time": "2023-05-03T13:27:50.110019Z"
    }
   }
  }
 ],
 "metadata": {
  "kernelspec": {
   "display_name": "Python 3",
   "language": "python",
   "name": "python3"
  },
  "language_info": {
   "codemirror_mode": {
    "name": "ipython",
    "version": 2
   },
   "file_extension": ".py",
   "mimetype": "text/x-python",
   "name": "python",
   "nbconvert_exporter": "python",
   "pygments_lexer": "ipython2",
   "version": "2.7.6"
  }
 },
 "nbformat": 4,
 "nbformat_minor": 0
}
