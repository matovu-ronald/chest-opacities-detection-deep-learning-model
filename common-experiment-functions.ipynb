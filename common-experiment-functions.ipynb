{
 "cells": [
  {
   "cell_type": "markdown",
   "source": [
    "## The common experiment functions\n",
    "### The functions are used to perform model optimization & hyper parameters tunning\n",
    "### After the tunning, the best parameters a combined to come up with the best model"
   ],
   "metadata": {
    "collapsed": false
   }
  },
  {
   "cell_type": "code",
   "execution_count": 6,
   "outputs": [],
   "source": [
    "import numpy as np\n",
    "import pandas as pd\n",
    "import os\n",
    "import tensorflow as tf\n",
    "from tensorflow import keras\n",
    "from sklearn import preprocessing\n",
    "from sklearn.preprocessing import StandardScaler\n",
    "from sklearn.model_selection import train_test_split"
   ],
   "metadata": {
    "collapsed": false,
    "ExecuteTime": {
     "start_time": "2023-05-03T12:11:03.095183Z",
     "end_time": "2023-05-03T12:11:03.914135Z"
    }
   }
  },
  {
   "cell_type": "code",
   "execution_count": 7,
   "outputs": [],
   "source": [
    "#---------------------------------------------------------------------\n",
    "# Function to create a default configuration for our neural network model\n",
    "# The configuration can be overridden while creating the model\n",
    "#\n",
    "def base_model_config():\n",
    "    model_config = {\n",
    "        \"HIDDEN_NODES\" : [32,64],\n",
    "        \"HIDDEN_ACTIVATION\" : \"relu\",\n",
    "        \"OUTPUT_NODES\" : 3,\n",
    "        \"OUTPUT_ACTIVATION\" : \"sigmoid\",\n",
    "        \"WEIGHTS_INITIALIZER\" : \"random_normal\",\n",
    "        \"BIAS_INITIALIZER\" : \"zeros\",\n",
    "        \"NORMALIZATION\" : \"none\",\n",
    "        \"OPTIMIZER\" : \"adam\",\n",
    "        \"LEARNING_RATE\" : 0.001,\n",
    "        \"REGULARIZER\" : None,\n",
    "        \"DROPOUT_RATE\" : 0.0,\n",
    "        \"EPOCHS\" : 10,\n",
    "        \"BATCH_SIZE\" : 16,\n",
    "        \"VALIDATION_SPLIT\" : 0.2,\n",
    "        \"VERBOSE\" : 0,\n",
    "        \"LOSS_FUNCTION\" : \"binary_crossentropy\",\n",
    "        \"METRICS\" : [\"accuracy\"]\n",
    "    }\n",
    "    return model_config"
   ],
   "metadata": {
    "collapsed": false,
    "ExecuteTime": {
     "start_time": "2023-05-03T12:11:03.916467Z",
     "end_time": "2023-05-03T12:11:03.917801Z"
    }
   }
  },
  {
   "cell_type": "code",
   "execution_count": 8,
   "metadata": {
    "collapsed": true,
    "ExecuteTime": {
     "start_time": "2023-05-03T12:11:03.919917Z",
     "end_time": "2023-05-03T12:11:03.922092Z"
    }
   },
   "outputs": [],
   "source": [
    "#---------------------------------------------------------------------\n",
    "# Function to create an optimizer based on the optimizer name and learning rate\n",
    "#---------------------------------------------------------------------\n",
    "def get_optimizer(optimizer_name, learning_rate):\n",
    "    # adagrad, adam, rmsprop, and sgd\n",
    "    optimizer = None\n",
    "\n",
    "    if optimizer_name == \"adagrad\":\n",
    "        optimizer = keras.optimizers.Adagrad(learning_rate=learning_rate)\n",
    "    elif optimizer_name == \"adam\":\n",
    "        optimizer = keras.optimizers.Adam(learning_rate=learning_rate)\n",
    "    elif optimizer_name == \"rmsprop\":\n",
    "        optimizer = keras.optimizers.RMSprop(learning_rate=learning_rate)\n",
    "    else:\n",
    "        optimizer = keras.optimizers.SGD(learning_rate=learning_rate)\n",
    "\n",
    "    return optimizer"
   ]
  },
  {
   "cell_type": "code",
   "execution_count": 8,
   "outputs": [],
   "source": [],
   "metadata": {
    "collapsed": false,
    "ExecuteTime": {
     "start_time": "2023-05-03T12:11:03.922220Z",
     "end_time": "2023-05-03T12:11:03.924309Z"
    }
   }
  }
 ],
 "metadata": {
  "kernelspec": {
   "display_name": "Python 3",
   "language": "python",
   "name": "python3"
  },
  "language_info": {
   "codemirror_mode": {
    "name": "ipython",
    "version": 2
   },
   "file_extension": ".py",
   "mimetype": "text/x-python",
   "name": "python",
   "nbconvert_exporter": "python",
   "pygments_lexer": "ipython2",
   "version": "2.7.6"
  }
 },
 "nbformat": 4,
 "nbformat_minor": 0
}
