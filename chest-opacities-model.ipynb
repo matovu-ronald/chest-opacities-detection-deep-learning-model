{
 "cells": [
  {
   "cell_type": "code",
   "execution_count": 27,
   "metadata": {
    "collapsed": true,
    "ExecuteTime": {
     "start_time": "2023-05-04T15:09:43.577379Z",
     "end_time": "2023-05-04T15:09:43.583821Z"
    }
   },
   "outputs": [],
   "source": [
    "import keras.layers\n",
    "from tensorflow import keras\n",
    "import tensorflow as tf"
   ]
  },
  {
   "cell_type": "code",
   "execution_count": 19,
   "outputs": [],
   "source": [
    "# Path to images\n",
    "path_to_images = \"training-data/dataset1/known_images\""
   ],
   "metadata": {
    "collapsed": false,
    "ExecuteTime": {
     "start_time": "2023-05-04T12:59:15.911208Z",
     "end_time": "2023-05-04T12:59:15.915947Z"
    }
   }
  },
  {
   "cell_type": "code",
   "execution_count": 30,
   "outputs": [
    {
     "name": "stdout",
     "output_type": "stream",
     "text": [
      "Found 715 files belonging to 2 classes.\n",
      "Using 572 files for training.\n",
      "Using 143 files for validation.\n"
     ]
    }
   ],
   "source": [
    "train_dataset, val_dataset = keras.utils.image_dataset_from_directory(\n",
    "    path_to_images,\n",
    "    class_names=[\"normal\", \"sick\"],\n",
    "    batch_size = 32,\n",
    "    image_size=(395, 488),\n",
    "    validation_split=0.2,\n",
    "    subset=\"both\",\n",
    "    seed=200\n",
    ")"
   ],
   "metadata": {
    "collapsed": false,
    "ExecuteTime": {
     "start_time": "2023-05-04T15:12:23.361022Z",
     "end_time": "2023-05-04T15:12:23.523379Z"
    }
   }
  },
  {
   "cell_type": "code",
   "execution_count": 62,
   "outputs": [],
   "source": [
    "data_augmentation = keras.Sequential(\n",
    "    [\n",
    "        keras.layers.RandomFlip(\"horizontal\"),\n",
    "        keras.layers.RandomRotation(0.1),\n",
    "        keras.layers.RandomZoom(0.2)\n",
    "    ]\n",
    ")"
   ],
   "metadata": {
    "collapsed": false,
    "ExecuteTime": {
     "start_time": "2023-05-04T17:09:52.934926Z",
     "end_time": "2023-05-04T17:09:52.961144Z"
    }
   }
  },
  {
   "cell_type": "code",
   "execution_count": 64,
   "outputs": [
    {
     "name": "stdout",
     "output_type": "stream",
     "text": [
      "WARNING:tensorflow:Using a while_loop for converting RngReadAndSkip cause there is no registered converter for this op.\n",
      "WARNING:tensorflow:Using a while_loop for converting Bitcast cause there is no registered converter for this op.\n",
      "WARNING:tensorflow:Using a while_loop for converting Bitcast cause there is no registered converter for this op.\n",
      "WARNING:tensorflow:Using a while_loop for converting StatelessRandomUniformV2 cause there is no registered converter for this op.\n",
      "WARNING:tensorflow:Using a while_loop for converting ImageProjectiveTransformV3 cause there is no registered converter for this op.\n",
      "WARNING:tensorflow:Using a while_loop for converting RngReadAndSkip cause there is no registered converter for this op.\n",
      "WARNING:tensorflow:Using a while_loop for converting Bitcast cause there is no registered converter for this op.\n",
      "WARNING:tensorflow:Using a while_loop for converting Bitcast cause there is no registered converter for this op.\n",
      "WARNING:tensorflow:Using a while_loop for converting StatelessRandomUniformV2 cause there is no registered converter for this op.\n",
      "WARNING:tensorflow:Using a while_loop for converting ImageProjectiveTransformV3 cause there is no registered converter for this op.\n"
     ]
    }
   ],
   "source": [
    "# Create input shape\n",
    "inputs = keras.Input(shape=(395, 488, 3))\n",
    "\n",
    "# Data augmentation\n",
    "x = data_augmentation(inputs)\n",
    "\n",
    "# Normalize the features from (0 -255) to (0 -1)\n",
    "x = keras.layers.Rescaling(1./255)(x)\n",
    "\n",
    "# Create a convolutional layer with max pooling\n",
    "x = keras.layers.Conv2D(filters=32,kernel_size=3,activation=\"relu\")(x)\n",
    "x = keras.layers.MaxPooling2D(pool_size=2)(x)\n",
    "\n",
    "x = keras.layers.Conv2D(filters=64,kernel_size=3,activation=\"relu\")(inputs)\n",
    "x = keras.layers.MaxPooling2D(pool_size=2)(x)\n",
    "\n",
    "x = keras.layers.Conv2D(filters=128,kernel_size=3,activation=\"relu\")(inputs)\n",
    "x = keras.layers.MaxPooling2D(pool_size=2)(x)\n",
    "\n",
    "x = keras.layers.Conv2D(filters=256,kernel_size=3,activation=\"relu\")(inputs)\n",
    "x = keras.layers.MaxPooling2D(pool_size=2)(x)\n",
    "\n",
    "x = keras.layers.Conv2D(filters=256,kernel_size=3,activation=\"relu\")(inputs)\n",
    "x = keras.layers.MaxPooling2D(pool_size=2)(x)\n",
    "\n",
    "x = keras.layers.Conv2D(filters=256,kernel_size=3,activation=\"relu\")(inputs)\n",
    "x = keras.layers.MaxPooling2D(pool_size=2)(x)\n",
    "\n",
    "x = keras.layers.Flatten()(x)\n",
    "\n",
    "# x = keras.layers.Dense(64, activation=\"relu\")(x)\n",
    "\n",
    "# Create the model output\n",
    "outputs = keras.layers.Dense(1, activation=\"sigmoid\")(x)\n"
   ],
   "metadata": {
    "collapsed": false,
    "ExecuteTime": {
     "start_time": "2023-05-04T17:15:40.539482Z",
     "end_time": "2023-05-04T17:15:40.867450Z"
    }
   }
  },
  {
   "cell_type": "code",
   "execution_count": 65,
   "outputs": [],
   "source": [
    "model = keras.Model(inputs=inputs, outputs=outputs, name=\"Chest_Opacities_Detection\")"
   ],
   "metadata": {
    "collapsed": false,
    "ExecuteTime": {
     "start_time": "2023-05-04T17:15:44.824720Z",
     "end_time": "2023-05-04T17:15:44.829071Z"
    }
   }
  },
  {
   "cell_type": "code",
   "execution_count": 66,
   "outputs": [
    {
     "name": "stdout",
     "output_type": "stream",
     "text": [
      "Model: \"Chest_Opacities_Detection\"\n",
      "_________________________________________________________________\n",
      " Layer (type)                Output Shape              Param #   \n",
      "=================================================================\n",
      " input_11 (InputLayer)       [(None, 395, 488, 3)]     0         \n",
      "                                                                 \n",
      " conv2d_48 (Conv2D)          (None, 393, 486, 256)     7168      \n",
      "                                                                 \n",
      " max_pooling2d_43 (MaxPoolin  (None, 196, 243, 256)    0         \n",
      " g2D)                                                            \n",
      "                                                                 \n",
      " flatten_11 (Flatten)        (None, 12192768)          0         \n",
      "                                                                 \n",
      " dense_11 (Dense)            (None, 1)                 12192769  \n",
      "                                                                 \n",
      "=================================================================\n",
      "Total params: 12,199,937\n",
      "Trainable params: 12,199,937\n",
      "Non-trainable params: 0\n",
      "_________________________________________________________________\n"
     ]
    }
   ],
   "source": [
    "model.summary()"
   ],
   "metadata": {
    "collapsed": false,
    "ExecuteTime": {
     "start_time": "2023-05-04T17:15:47.722204Z",
     "end_time": "2023-05-04T17:15:47.754842Z"
    }
   }
  },
  {
   "cell_type": "code",
   "execution_count": 57,
   "outputs": [],
   "source": [
    "model.compile(\n",
    "    loss=\"binary_crossentropy\",\n",
    "    optimizer=\"rmsprop\",\n",
    "    metrics=['accuracy']\n",
    ")"
   ],
   "metadata": {
    "collapsed": false,
    "ExecuteTime": {
     "start_time": "2023-05-04T16:43:27.522887Z",
     "end_time": "2023-05-04T16:43:27.527433Z"
    }
   }
  },
  {
   "cell_type": "code",
   "execution_count": 58,
   "outputs": [
    {
     "name": "stdout",
     "output_type": "stream",
     "text": [
      "Epoch 1/5\n",
      "18/18 [==============================] - 349s 19s/step - loss: 5817.1396 - accuracy: 0.6416 - val_loss: 214.7421 - val_accuracy: 0.7552\n",
      "Epoch 2/5\n",
      "18/18 [==============================] - 287s 16s/step - loss: 270.1956 - accuracy: 0.8671 - val_loss: 62.7382 - val_accuracy: 0.8881\n",
      "Epoch 3/5\n",
      "18/18 [==============================] - 257s 14s/step - loss: 99.7524 - accuracy: 0.8864 - val_loss: 186.5370 - val_accuracy: 0.8112\n",
      "Epoch 4/5\n",
      "18/18 [==============================] - 255s 14s/step - loss: 50.6511 - accuracy: 0.9248 - val_loss: 2728.7620 - val_accuracy: 0.4336\n",
      "Epoch 5/5\n",
      "18/18 [==============================] - 301s 17s/step - loss: 433.8308 - accuracy: 0.7308 - val_loss: 10.6801 - val_accuracy: 0.9650\n"
     ]
    }
   ],
   "source": [
    "history = model.fit(\n",
    "    train_dataset,\n",
    "    epochs=5,\n",
    "    validation_data=val_dataset\n",
    ")"
   ],
   "metadata": {
    "collapsed": false,
    "ExecuteTime": {
     "start_time": "2023-05-04T16:43:28.246307Z",
     "end_time": "2023-05-04T17:07:37.715048Z"
    }
   }
  },
  {
   "cell_type": "code",
   "execution_count": 49,
   "outputs": [
    {
     "data": {
      "text/plain": "<Figure size 640x480 with 1 Axes>",
      "image/png": "[encoded data removed]"
     },
     "metadata": {},
     "output_type": "display_data"
    },
    {
     "data": {
      "text/plain": "<Figure size 640x480 with 1 Axes>",
      "image/png": "[encoded data removed]"
     },
     "metadata": {},
     "output_type": "display_data"
    },
    {
     "data": {
      "text/plain": "<Figure size 640x480 with 0 Axes>"
     },
     "metadata": {},
     "output_type": "display_data"
    }
   ],
   "source": [
    "import matplotlib.pyplot as plt\n",
    "accuracy = history.history[\"accuracy\"]\n",
    "val_accuracy = history.history[\"val_accuracy\"]\n",
    "loss = history.history[\"loss\"]\n",
    "val_loss = history.history[\"val_loss\"]\n",
    "\n",
    "epochs = range(1, len(accuracy) + 1)\n",
    "plt.plot(epochs, accuracy, \"bo\", label=\"Training Accuracy\")\n",
    "plt.plot(epochs, val_accuracy, \"b\", label=\"Validation Accuracy\")\n",
    "plt.title(\"Training and Validation accuracy\")\n",
    "plt.legend()\n",
    "plt.figure()\n",
    "\n",
    "plt.plot(epochs, loss, \"bo\", label=\"Training Loss\")\n",
    "plt.plot(epochs, val_loss, \"b\", label=\"Validation Loss\")\n",
    "plt.title(\"Training and Validation Loss\")\n",
    "plt.legend()\n",
    "plt.figure()\n",
    "plt.show()"
   ],
   "metadata": {
    "collapsed": false,
    "ExecuteTime": {
     "start_time": "2023-05-04T16:41:30.255770Z",
     "end_time": "2023-05-04T16:41:30.699862Z"
    }
   }
  },
  {
   "cell_type": "code",
   "execution_count": 22,
   "outputs": [],
   "source": [
    "inputs = keras.Input(shape=(395, 488, 3))\n",
    "\n",
    "# Normalize the dataset\n",
    "x = layers.Rescaling(1./255)(inputs)\n",
    "\n",
    "# First convnet cluster\n",
    "x = layers.Conv2D(filters=32, kernel_size=3, activation=\"relu\")(x)\n",
    "x = layers.MaxPooling2D(pool_size=2)(x)\n",
    "\n",
    "# Second convnet cluster\n",
    "x = layers.Conv2D(filters=64, kernel_size=3, activation=\"relu\")(x)\n",
    "x = layers.MaxPooling2D(pool_size=2)(x)\n",
    "\n",
    "# Thrid convnet cluster\n",
    "x = layers.Conv2D(filters=128, kernel_size=3, activation=\"relu\")(x)\n",
    "x = layers.MaxPooling2D(pool_size=2)(x)\n",
    "\n",
    "# Fourth convent cluster\n",
    "x = layers.Conv2D(filters=256, kernel_size=3, activation=\"relu\")(x)\n",
    "x = layers.MaxPooling2D(pool_size=2)(x)\n",
    "\n",
    "# Fifth convent cluster\n",
    "x = layers.Conv2D(filters=256, kernel_size=3, activation=\"relu\")(x)\n",
    "x = layers.MaxPooling2D(pool_size=2)(x)\n",
    "\n",
    "# Sixth convnet cluster\n",
    "x = layers.Conv2D(filters=256, kernel_size=3, activation=\"relu\")(x)\n",
    "\n",
    "# Flatten the 3D convnet ouput to 1D output\n",
    "x = layers.Flatten()(x)\n",
    "\n",
    "# Output Layer\n",
    "outputs = layers.Dense(1, activation=\"sigmoid\")(x)\n",
    "\n",
    "model = keras.Model(inputs=inputs, outputs=outputs)"
   ],
   "metadata": {
    "collapsed": false,
    "ExecuteTime": {
     "start_time": "2023-05-04T12:59:18.567286Z",
     "end_time": "2023-05-04T12:59:18.630389Z"
    }
   }
  },
  {
   "cell_type": "code",
   "execution_count": 23,
   "outputs": [
    {
     "name": "stdout",
     "output_type": "stream",
     "text": [
      "Model: \"model_2\"\n",
      "_________________________________________________________________\n",
      " Layer (type)                Output Shape              Param #   \n",
      "=================================================================\n",
      " input_5 (InputLayer)        [(None, 395, 488, 3)]     0         \n",
      "                                                                 \n",
      " rescaling_4 (Rescaling)     (None, 395, 488, 3)       0         \n",
      "                                                                 \n",
      " conv2d_21 (Conv2D)          (None, 393, 486, 32)      896       \n",
      "                                                                 \n",
      " max_pooling2d_17 (MaxPoolin  (None, 196, 243, 32)     0         \n",
      " g2D)                                                            \n",
      "                                                                 \n",
      " conv2d_22 (Conv2D)          (None, 194, 241, 64)      18496     \n",
      "                                                                 \n",
      " max_pooling2d_18 (MaxPoolin  (None, 97, 120, 64)      0         \n",
      " g2D)                                                            \n",
      "                                                                 \n",
      " conv2d_23 (Conv2D)          (None, 95, 118, 128)      73856     \n",
      "                                                                 \n",
      " max_pooling2d_19 (MaxPoolin  (None, 47, 59, 128)      0         \n",
      " g2D)                                                            \n",
      "                                                                 \n",
      " conv2d_24 (Conv2D)          (None, 45, 57, 256)       295168    \n",
      "                                                                 \n",
      " max_pooling2d_20 (MaxPoolin  (None, 22, 28, 256)      0         \n",
      " g2D)                                                            \n",
      "                                                                 \n",
      " conv2d_25 (Conv2D)          (None, 20, 26, 256)       590080    \n",
      "                                                                 \n",
      " max_pooling2d_21 (MaxPoolin  (None, 10, 13, 256)      0         \n",
      " g2D)                                                            \n",
      "                                                                 \n",
      " conv2d_26 (Conv2D)          (None, 8, 11, 256)        590080    \n",
      "                                                                 \n",
      " flatten_4 (Flatten)         (None, 22528)             0         \n",
      "                                                                 \n",
      " dense_4 (Dense)             (None, 1)                 22529     \n",
      "                                                                 \n",
      "=================================================================\n",
      "Total params: 1,591,105\n",
      "Trainable params: 1,591,105\n",
      "Non-trainable params: 0\n",
      "_________________________________________________________________\n"
     ]
    }
   ],
   "source": [
    "model.summary()"
   ],
   "metadata": {
    "collapsed": false,
    "ExecuteTime": {
     "start_time": "2023-05-04T12:59:20.159158Z",
     "end_time": "2023-05-04T12:59:20.186494Z"
    }
   }
  },
  {
   "cell_type": "code",
   "execution_count": 24,
   "outputs": [],
   "source": [
    "model.compile(\n",
    "    loss=\"binary_crossentropy\",\n",
    "    optimizer=\"rmsprop\",\n",
    "    metrics=[\"accuracy\"]\n",
    ")"
   ],
   "metadata": {
    "collapsed": false,
    "ExecuteTime": {
     "start_time": "2023-05-04T12:59:20.535170Z",
     "end_time": "2023-05-04T12:59:20.551720Z"
    }
   }
  },
  {
   "cell_type": "code",
   "execution_count": 25,
   "outputs": [],
   "source": [
    "calllbacks = [\n",
    "    keras.callbacks.ModelCheckpoint(\n",
    "        filepath=\"models/chest_opacities_detection_model_v1.keras\",\n",
    "        save_best_only = True,\n",
    "        monitor = \"loss\"\n",
    "    )\n",
    "]"
   ],
   "metadata": {
    "collapsed": false,
    "ExecuteTime": {
     "start_time": "2023-05-04T13:01:54.362739Z",
     "end_time": "2023-05-04T13:01:54.365135Z"
    }
   }
  },
  {
   "cell_type": "code",
   "execution_count": 26,
   "outputs": [
    {
     "name": "stdout",
     "output_type": "stream",
     "text": [
      "Epoch 1/30\n",
      "23/23 [==============================] - 142s 6s/step - loss: 0.8771 - accuracy: 0.5385\n",
      "Epoch 2/30\n",
      "23/23 [==============================] - 140s 6s/step - loss: 0.6531 - accuracy: 0.6587\n",
      "Epoch 3/30\n",
      "23/23 [==============================] - 140s 6s/step - loss: 0.4123 - accuracy: 0.8168\n",
      "Epoch 4/30\n",
      "23/23 [==============================] - 154s 7s/step - loss: 0.2771 - accuracy: 0.8965\n",
      "Epoch 5/30\n",
      "23/23 [==============================] - 155s 7s/step - loss: 0.2227 - accuracy: 0.9063\n",
      "Epoch 6/30\n",
      "23/23 [==============================] - 135s 6s/step - loss: 0.2722 - accuracy: 0.9021\n",
      "Epoch 7/30\n",
      "23/23 [==============================] - 134s 6s/step - loss: 0.1266 - accuracy: 0.9594\n",
      "Epoch 8/30\n",
      "23/23 [==============================] - 136s 6s/step - loss: 0.1425 - accuracy: 0.9552\n",
      "Epoch 9/30\n",
      "23/23 [==============================] - 137s 6s/step - loss: 0.0881 - accuracy: 0.9636\n",
      "Epoch 10/30\n",
      "23/23 [==============================] - 140s 6s/step - loss: 0.0723 - accuracy: 0.9762\n",
      "Epoch 11/30\n",
      "23/23 [==============================] - 141s 6s/step - loss: 0.0626 - accuracy: 0.9804\n",
      "Epoch 12/30\n",
      "23/23 [==============================] - 140s 6s/step - loss: 0.0500 - accuracy: 0.9846\n",
      "Epoch 13/30\n",
      "23/23 [==============================] - 132s 6s/step - loss: 0.0443 - accuracy: 0.9888\n",
      "Epoch 14/30\n",
      "23/23 [==============================] - 131s 6s/step - loss: 0.0392 - accuracy: 0.9944\n",
      "Epoch 15/30\n",
      "23/23 [==============================] - 132s 6s/step - loss: 0.0935 - accuracy: 0.9734\n",
      "Epoch 16/30\n",
      "23/23 [==============================] - 130s 6s/step - loss: 0.0308 - accuracy: 0.9902\n",
      "Epoch 17/30\n",
      "23/23 [==============================] - 130s 6s/step - loss: 0.0516 - accuracy: 0.9874\n",
      "Epoch 18/30\n",
      "23/23 [==============================] - 129s 6s/step - loss: 0.0209 - accuracy: 0.9902\n",
      "Epoch 19/30\n",
      "23/23 [==============================] - 130s 6s/step - loss: 0.0193 - accuracy: 0.9930\n",
      "Epoch 20/30\n",
      "23/23 [==============================] - 130s 6s/step - loss: 2.4023e-04 - accuracy: 1.0000\n",
      "Epoch 21/30\n",
      "23/23 [==============================] - 130s 6s/step - loss: 6.8177e-05 - accuracy: 1.0000\n",
      "Epoch 22/30\n",
      "23/23 [==============================] - 130s 6s/step - loss: 1.7628e-05 - accuracy: 1.0000\n",
      "Epoch 23/30\n",
      "23/23 [==============================] - 130s 6s/step - loss: 2.7541e-06 - accuracy: 1.0000\n",
      "Epoch 24/30\n",
      "23/23 [==============================] - 130s 6s/step - loss: 6.4025e-07 - accuracy: 1.0000\n",
      "Epoch 25/30\n",
      "23/23 [==============================] - 131s 6s/step - loss: 1.2810e-07 - accuracy: 1.0000\n",
      "Epoch 26/30\n",
      "23/23 [==============================] - 132s 6s/step - loss: 3.6710e-08 - accuracy: 1.0000\n",
      "Epoch 27/30\n",
      "23/23 [==============================] - 133s 6s/step - loss: 1.3853e-08 - accuracy: 1.0000\n",
      "Epoch 28/30\n",
      "23/23 [==============================] - 500s 22s/step - loss: 6.5052e-09 - accuracy: 1.0000\n",
      "Epoch 29/30\n",
      "23/23 [==============================] - 1664s 75s/step - loss: 3.2750e-09 - accuracy: 1.0000\n",
      "Epoch 30/30\n",
      "23/23 [==============================] - 128s 6s/step - loss: 1.4685e-09 - accuracy: 1.0000\n"
     ]
    }
   ],
   "source": [
    "history = model.fit(\n",
    "    dataset,\n",
    "    epochs=30,\n",
    "    callbacks=calllbacks\n",
    ")"
   ],
   "metadata": {
    "collapsed": false,
    "ExecuteTime": {
     "start_time": "2023-05-04T13:02:25.511622Z",
     "end_time": "2023-05-04T14:41:31.175828Z"
    }
   }
  },
  {
   "cell_type": "code",
   "execution_count": 5,
   "outputs": [
    {
     "name": "stderr",
     "output_type": "stream",
     "text": [
      "2023-05-03 21:25:14.295696: W tensorflow/core/platform/profile_utils/cpu_utils.cc:128] Failed to get CPU frequency: 0 Hz\n"
     ]
    },
    {
     "name": "stdout",
     "output_type": "stream",
     "text": [
      "(32, 395, 488, 3)\n",
      "<dtype: 'float32'>\n",
      "(32,)\n",
      "<dtype: 'int32'>\n",
      "(32, 395, 488, 3)\n",
      "<dtype: 'float32'>\n",
      "(32,)\n",
      "<dtype: 'int32'>\n",
      "(32, 395, 488, 3)\n",
      "<dtype: 'float32'>\n",
      "(32,)\n",
      "<dtype: 'int32'>\n",
      "(32, 395, 488, 3)\n",
      "<dtype: 'float32'>\n",
      "(32,)\n",
      "<dtype: 'int32'>\n",
      "(32, 395, 488, 3)\n",
      "<dtype: 'float32'>\n",
      "(32,)\n",
      "<dtype: 'int32'>\n",
      "(32, 395, 488, 3)\n",
      "<dtype: 'float32'>\n",
      "(32,)\n",
      "<dtype: 'int32'>\n",
      "(32, 395, 488, 3)\n",
      "<dtype: 'float32'>\n",
      "(32,)\n",
      "<dtype: 'int32'>\n",
      "(32, 395, 488, 3)\n",
      "<dtype: 'float32'>\n",
      "(32,)\n",
      "<dtype: 'int32'>\n",
      "(32, 395, 488, 3)\n",
      "<dtype: 'float32'>\n",
      "(32,)\n",
      "<dtype: 'int32'>\n",
      "(32, 395, 488, 3)\n",
      "<dtype: 'float32'>\n",
      "(32,)\n",
      "<dtype: 'int32'>\n",
      "(32, 395, 488, 3)\n",
      "<dtype: 'float32'>\n",
      "(32,)\n",
      "<dtype: 'int32'>\n",
      "(32, 395, 488, 3)\n",
      "<dtype: 'float32'>\n",
      "(32,)\n",
      "<dtype: 'int32'>\n",
      "(32, 395, 488, 3)\n",
      "<dtype: 'float32'>\n",
      "(32,)\n",
      "<dtype: 'int32'>\n",
      "(32, 395, 488, 3)\n",
      "<dtype: 'float32'>\n",
      "(32,)\n",
      "<dtype: 'int32'>\n",
      "(32, 395, 488, 3)\n",
      "<dtype: 'float32'>\n",
      "(32,)\n",
      "<dtype: 'int32'>\n",
      "(32, 395, 488, 3)\n",
      "<dtype: 'float32'>\n",
      "(32,)\n",
      "<dtype: 'int32'>\n",
      "(32, 395, 488, 3)\n",
      "<dtype: 'float32'>\n",
      "(32,)\n",
      "<dtype: 'int32'>\n",
      "(32, 395, 488, 3)\n",
      "<dtype: 'float32'>\n",
      "(32,)\n",
      "<dtype: 'int32'>\n",
      "(32, 395, 488, 3)\n",
      "<dtype: 'float32'>\n",
      "(32,)\n",
      "<dtype: 'int32'>\n",
      "(32, 395, 488, 3)\n",
      "<dtype: 'float32'>\n",
      "(32,)\n",
      "<dtype: 'int32'>\n",
      "(32, 395, 488, 3)\n",
      "<dtype: 'float32'>\n",
      "(32,)\n",
      "<dtype: 'int32'>\n",
      "(32, 395, 488, 3)\n",
      "<dtype: 'float32'>\n",
      "(32,)\n",
      "<dtype: 'int32'>\n",
      "(11, 395, 488, 3)\n",
      "<dtype: 'float32'>\n",
      "(11,)\n",
      "<dtype: 'int32'>\n"
     ]
    }
   ],
   "source": [
    "for data, labels in dataset:\n",
    "    print(data.shape)  # (64, 200, 200, 3)\n",
    "    print(data.dtype)  # float32\n",
    "    print(labels.shape)  # (64,)\n",
    "    print(labels.dtype)  # int32"
   ],
   "metadata": {
    "collapsed": false,
    "ExecuteTime": {
     "start_time": "2023-05-03T21:25:14.245173Z",
     "end_time": "2023-05-03T21:25:14.972133Z"
    }
   }
  },
  {
   "cell_type": "code",
   "execution_count": 15,
   "outputs": [],
   "source": [
    "data_augmentation = keras.Sequential(\n",
    "    [\n",
    "        keras.layers.RandomFlip(\"horizontal\"),\n",
    "        keras.layers.RandomRotation(0.1),\n",
    "    ]\n",
    ")"
   ],
   "metadata": {
    "collapsed": false,
    "ExecuteTime": {
     "start_time": "2023-05-03T21:08:29.090388Z",
     "end_time": "2023-05-03T21:08:29.098534Z"
    }
   }
  },
  {
   "cell_type": "code",
   "execution_count": 16,
   "outputs": [
    {
     "name": "stdout",
     "output_type": "stream",
     "text": [
      "WARNING:tensorflow:Using a while_loop for converting RngReadAndSkip cause there is no registered converter for this op.\n",
      "WARNING:tensorflow:Using a while_loop for converting Bitcast cause there is no registered converter for this op.\n",
      "WARNING:tensorflow:Using a while_loop for converting Bitcast cause there is no registered converter for this op.\n",
      "WARNING:tensorflow:Using a while_loop for converting StatelessRandomUniformV2 cause there is no registered converter for this op.\n",
      "WARNING:tensorflow:Using a while_loop for converting ImageProjectiveTransformV3 cause there is no registered converter for this op.\n",
      "WARNING:tensorflow:Using a while_loop for converting RngReadAndSkip cause there is no registered converter for this op.\n",
      "WARNING:tensorflow:Using a while_loop for converting Bitcast cause there is no registered converter for this op.\n",
      "WARNING:tensorflow:Using a while_loop for converting Bitcast cause there is no registered converter for this op.\n",
      "WARNING:tensorflow:Using a while_loop for converting StatelessRandomUniformV2 cause there is no registered converter for this op.\n",
      "WARNING:tensorflow:Using a while_loop for converting ImageProjectiveTransformV3 cause there is no registered converter for this op.\n"
     ]
    }
   ],
   "source": [
    "# Apply `data_augmentation` to the training images.\n",
    "train_ds = train_ds.map(\n",
    "    lambda img, label: (data_augmentation(img), label),\n",
    "    num_parallel_calls=tf.data.AUTOTUNE,\n",
    ")\n",
    "# Prefetching samples in GPU memory helps maximize GPU utilization.\n",
    "train_ds = train_ds.prefetch(tf.data.AUTOTUNE)"
   ],
   "metadata": {
    "collapsed": false,
    "ExecuteTime": {
     "start_time": "2023-05-03T21:08:30.093020Z",
     "end_time": "2023-05-03T21:08:30.502433Z"
    }
   }
  },
  {
   "cell_type": "code",
   "execution_count": 17,
   "outputs": [],
   "source": [
    "model = keras.Sequential()\n",
    "\n",
    "# Add layers\n",
    "model.add(keras.layers.Rescaling(1.0/255))\n",
    "model.add(keras.layers.Conv2D(32, (3, 3), activation=\"relu\", input_shape=(395, 488, 3)))\n",
    "model.add(keras.layers.MaxPooling2D(2, 2))\n",
    "model.add(keras.layers.Dropout(0.25))\n",
    "\n",
    "# Flatten the convolution layer output\n",
    "model.add(keras.layers.Flatten())\n",
    "\n",
    "model.add(keras.layers.Dense(512,activation=\"relu\"))\n",
    "model.add(keras.layers.Dense(1, activation=\"sigmoid\"))"
   ],
   "metadata": {
    "collapsed": false,
    "ExecuteTime": {
     "start_time": "2023-05-03T21:08:32.235568Z",
     "end_time": "2023-05-03T21:08:32.250837Z"
    }
   }
  },
  {
   "cell_type": "code",
   "execution_count": 18,
   "outputs": [],
   "source": [
    "# Compile the model\n",
    "model.compile(optimizer = \"adam\",loss = \"binary_crossentropy\", metrics = [\"accuracy\"])"
   ],
   "metadata": {
    "collapsed": false,
    "ExecuteTime": {
     "start_time": "2023-05-03T21:08:34.002996Z",
     "end_time": "2023-05-03T21:08:34.014591Z"
    }
   }
  },
  {
   "cell_type": "code",
   "execution_count": null,
   "outputs": [],
   "source": [
    "# Make predictions"
   ],
   "metadata": {
    "collapsed": false
   }
  }
 ],
 "metadata": {
  "kernelspec": {
   "display_name": "Python 3",
   "language": "python",
   "name": "python3"
  },
  "language_info": {
   "codemirror_mode": {
    "name": "ipython",
    "version": 2
   },
   "file_extension": ".py",
   "mimetype": "text/x-python",
   "name": "python",
   "nbconvert_exporter": "python",
   "pygments_lexer": "ipython2",
   "version": "2.7.6"
  }
 },
 "nbformat": 4,
 "nbformat_minor": 0
}
