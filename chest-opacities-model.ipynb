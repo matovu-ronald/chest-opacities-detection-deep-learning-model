{
 "cells": [
  {
   "cell_type": "code",
   "execution_count": 73,
   "metadata": {
    "collapsed": true,
    "ExecuteTime": {
     "start_time": "2023-05-04T18:23:53.818052Z",
     "end_time": "2023-05-04T18:23:53.820210Z"
    }
   },
   "outputs": [],
   "source": [
    "import keras.layers\n",
    "from tensorflow import keras\n",
    "import tensorflow as tf"
   ]
  },
  {
   "cell_type": "code",
   "execution_count": 74,
   "outputs": [],
   "source": [
    "# Path to images\n",
    "path_to_images = \"training-data/dataset1/known_images\""
   ],
   "metadata": {
    "collapsed": false,
    "ExecuteTime": {
     "start_time": "2023-05-04T18:23:54.671659Z",
     "end_time": "2023-05-04T18:23:54.679833Z"
    }
   }
  },
  {
   "cell_type": "code",
   "execution_count": 75,
   "outputs": [
    {
     "name": "stdout",
     "output_type": "stream",
     "text": [
      "Found 715 files belonging to 2 classes.\n",
      "Using 572 files for training.\n",
      "Using 143 files for validation.\n"
     ]
    }
   ],
   "source": [
    "train_dataset, val_dataset = keras.utils.image_dataset_from_directory(\n",
    "    path_to_images,\n",
    "    class_names=[\"normal\", \"sick\"],\n",
    "    batch_size = 32,\n",
    "    image_size=(395, 488),\n",
    "    validation_split=0.2,\n",
    "    subset=\"both\",\n",
    "    seed=200\n",
    ")"
   ],
   "metadata": {
    "collapsed": false,
    "ExecuteTime": {
     "start_time": "2023-05-04T18:23:56.006371Z",
     "end_time": "2023-05-04T18:23:56.215321Z"
    }
   }
  },
  {
   "cell_type": "code",
   "execution_count": 76,
   "outputs": [],
   "source": [
    "data_augmentation = keras.Sequential(\n",
    "    [\n",
    "        keras.layers.RandomFlip(\"horizontal\"),\n",
    "        keras.layers.RandomRotation(0.1),\n",
    "        keras.layers.RandomZoom(0.2)\n",
    "    ]\n",
    ")"
   ],
   "metadata": {
    "collapsed": false,
    "ExecuteTime": {
     "start_time": "2023-05-04T18:23:57.902556Z",
     "end_time": "2023-05-04T18:23:57.910673Z"
    }
   }
  },
  {
   "cell_type": "code",
   "execution_count": 77,
   "outputs": [],
   "source": [
    "# Create input shape\n",
    "inputs = keras.Input(shape=(395, 488, 3))\n",
    "\n",
    "# Data augmentation\n",
    "x = data_augmentation(inputs)\n",
    "\n",
    "# Normalize the features from (0 -255) to (0 -1)\n",
    "x = keras.layers.Rescaling(1./255)(x)\n",
    "\n",
    "# Create a convolutional layer with max pooling\n",
    "x = keras.layers.Conv2D(filters=32,kernel_size=3,activation=\"relu\")(x)\n",
    "x = keras.layers.MaxPooling2D(pool_size=2)(x)\n",
    "\n",
    "x = keras.layers.Conv2D(filters=64,kernel_size=3,activation=\"relu\")(inputs)\n",
    "x = keras.layers.MaxPooling2D(pool_size=2)(x)\n",
    "\n",
    "x = keras.layers.Conv2D(filters=128,kernel_size=3,activation=\"relu\")(inputs)\n",
    "x = keras.layers.MaxPooling2D(pool_size=2)(x)\n",
    "\n",
    "x = keras.layers.Conv2D(filters=256,kernel_size=3,activation=\"relu\")(inputs)\n",
    "x = keras.layers.MaxPooling2D(pool_size=2)(x)\n",
    "\n",
    "x = keras.layers.Conv2D(filters=256,kernel_size=3,activation=\"relu\")(inputs)\n",
    "x = keras.layers.MaxPooling2D(pool_size=2)(x)\n",
    "\n",
    "x = keras.layers.Conv2D(filters=256,kernel_size=3,activation=\"relu\")(inputs)\n",
    "x = keras.layers.MaxPooling2D(pool_size=2)(x)\n",
    "\n",
    "x = keras.layers.Flatten()(x)\n",
    "\n",
    "# Dropout\n",
    "x = keras.layers.Dropout(0.5)(x)\n",
    "\n",
    "# Create the model output\n",
    "outputs = keras.layers.Dense(1, activation=\"sigmoid\")(x)\n"
   ],
   "metadata": {
    "collapsed": false,
    "ExecuteTime": {
     "start_time": "2023-05-04T18:23:58.931541Z",
     "end_time": "2023-05-04T18:23:59.044940Z"
    }
   }
  },
  {
   "cell_type": "code",
   "execution_count": 78,
   "outputs": [],
   "source": [
    "model = keras.Model(inputs=inputs, outputs=outputs, name=\"Chest_Opacities_Detection\")"
   ],
   "metadata": {
    "collapsed": false,
    "ExecuteTime": {
     "start_time": "2023-05-04T18:24:00.261127Z",
     "end_time": "2023-05-04T18:24:00.265452Z"
    }
   }
  },
  {
   "cell_type": "code",
   "execution_count": 79,
   "outputs": [
    {
     "name": "stdout",
     "output_type": "stream",
     "text": [
      "Model: \"Chest_Opacities_Detection\"\n",
      "_________________________________________________________________\n",
      " Layer (type)                Output Shape              Param #   \n",
      "=================================================================\n",
      " input_13 (InputLayer)       [(None, 395, 488, 3)]     0         \n",
      "                                                                 \n",
      " conv2d_60 (Conv2D)          (None, 393, 486, 256)     7168      \n",
      "                                                                 \n",
      " max_pooling2d_55 (MaxPoolin  (None, 196, 243, 256)    0         \n",
      " g2D)                                                            \n",
      "                                                                 \n",
      " flatten_13 (Flatten)        (None, 12192768)          0         \n",
      "                                                                 \n",
      " dropout_1 (Dropout)         (None, 12192768)          0         \n",
      "                                                                 \n",
      " dense_13 (Dense)            (None, 1)                 12192769  \n",
      "                                                                 \n",
      "=================================================================\n",
      "Total params: 12,199,937\n",
      "Trainable params: 12,199,937\n",
      "Non-trainable params: 0\n",
      "_________________________________________________________________\n"
     ]
    }
   ],
   "source": [
    "model.summary()"
   ],
   "metadata": {
    "collapsed": false,
    "ExecuteTime": {
     "start_time": "2023-05-04T18:24:00.990561Z",
     "end_time": "2023-05-04T18:24:01.028163Z"
    }
   }
  },
  {
   "cell_type": "code",
   "execution_count": 80,
   "outputs": [],
   "source": [
    "model.compile(\n",
    "    loss=\"binary_crossentropy\",\n",
    "    optimizer=\"rmsprop\",\n",
    "    metrics=['accuracy']\n",
    ")"
   ],
   "metadata": {
    "collapsed": false,
    "ExecuteTime": {
     "start_time": "2023-05-04T18:24:22.624749Z",
     "end_time": "2023-05-04T18:24:22.648515Z"
    }
   }
  },
  {
   "cell_type": "code",
   "execution_count": 81,
   "outputs": [],
   "source": [
    "callbacks = [\n",
    "    keras.callbacks.ModelCheckpoint(\n",
    "        filepath=\"models/chest_opacities_detection_model_V1.keras\",\n",
    "        save_best_only=True,\n",
    "        monitor=\"val_loss\"\n",
    "    )\n",
    "]"
   ],
   "metadata": {
    "collapsed": false,
    "ExecuteTime": {
     "start_time": "2023-05-04T18:24:23.906662Z",
     "end_time": "2023-05-04T18:24:23.913742Z"
    }
   }
  },
  {
   "cell_type": "code",
   "execution_count": 82,
   "outputs": [
    {
     "name": "stdout",
     "output_type": "stream",
     "text": [
      "Epoch 1/30\n",
      "18/18 [==============================] - 534s 29s/step - loss: 2959.1899 - accuracy: 0.7430 - val_loss: 52.2584 - val_accuracy: 0.9091\n",
      "Epoch 2/30\n",
      "18/18 [==============================] - 413s 23s/step - loss: 52.0672 - accuracy: 0.8864 - val_loss: 11.9976 - val_accuracy: 0.9441\n",
      "Epoch 3/30\n",
      "18/18 [==============================] - 315s 17s/step - loss: 9.9600 - accuracy: 0.9336 - val_loss: 2.6129 - val_accuracy: 0.9510\n",
      "Epoch 4/30\n",
      "18/18 [==============================] - 263s 15s/step - loss: 1.0679 - accuracy: 0.9843 - val_loss: 1.9840 - val_accuracy: 0.9790\n",
      "Epoch 5/30\n",
      "18/18 [==============================] - 265s 15s/step - loss: 376.1442 - accuracy: 0.7290 - val_loss: 54.6175 - val_accuracy: 0.8252\n",
      "Epoch 6/30\n",
      "18/18 [==============================] - 277s 15s/step - loss: 292.0463 - accuracy: 0.8094 - val_loss: 637.1909 - val_accuracy: 0.6573\n",
      "Epoch 7/30\n",
      "18/18 [==============================] - 311s 17s/step - loss: 251.0313 - accuracy: 0.7902 - val_loss: 80.5474 - val_accuracy: 0.8322\n",
      "Epoch 8/30\n",
      "18/18 [==============================] - 287s 16s/step - loss: 13.9843 - accuracy: 0.9580 - val_loss: 20.8660 - val_accuracy: 0.9580\n",
      "Epoch 9/30\n",
      "18/18 [==============================] - 296s 16s/step - loss: 65.0351 - accuracy: 0.9231 - val_loss: 44.7128 - val_accuracy: 0.9161\n",
      "Epoch 10/30\n",
      "18/18 [==============================] - 270s 15s/step - loss: 6.9268 - accuracy: 0.9703 - val_loss: 7.8426 - val_accuracy: 0.9860\n",
      "Epoch 11/30\n",
      "18/18 [==============================] - 274s 15s/step - loss: 405.4509 - accuracy: 0.8706 - val_loss: 16.1921 - val_accuracy: 0.9860\n",
      "Epoch 12/30\n",
      "18/18 [==============================] - 273s 15s/step - loss: 3.8521 - accuracy: 0.9878 - val_loss: 10.9601 - val_accuracy: 0.9860\n",
      "Epoch 13/30\n",
      "18/18 [==============================] - 293s 16s/step - loss: 198.7878 - accuracy: 0.8899 - val_loss: 19.1462 - val_accuracy: 0.9790\n",
      "Epoch 14/30\n",
      "18/18 [==============================] - 287s 16s/step - loss: 2.2402 - accuracy: 0.9930 - val_loss: 23.6671 - val_accuracy: 0.9860\n",
      "Epoch 15/30\n",
      "18/18 [==============================] - 297s 16s/step - loss: 0.8125 - accuracy: 0.9930 - val_loss: 14.5619 - val_accuracy: 0.9650\n",
      "Epoch 16/30\n",
      "18/18 [==============================] - 282s 16s/step - loss: 404.4006 - accuracy: 0.8374 - val_loss: 58.6850 - val_accuracy: 0.9441\n",
      "Epoch 17/30\n",
      "18/18 [==============================] - 286s 16s/step - loss: 3.8823 - accuracy: 0.9895 - val_loss: 30.0997 - val_accuracy: 0.9860\n",
      "Epoch 18/30\n",
      "18/18 [==============================] - 276s 15s/step - loss: 1.5613 - accuracy: 0.9895 - val_loss: 22.2205 - val_accuracy: 0.9860\n",
      "Epoch 19/30\n",
      "18/18 [==============================] - 262s 14s/step - loss: 0.0000e+00 - accuracy: 1.0000 - val_loss: 22.2205 - val_accuracy: 0.9860\n",
      "Epoch 20/30\n",
      "18/18 [==============================] - 282s 16s/step - loss: 0.0000e+00 - accuracy: 1.0000 - val_loss: 22.2205 - val_accuracy: 0.9860\n",
      "Epoch 21/30\n",
      "18/18 [==============================] - 283s 16s/step - loss: 0.0000e+00 - accuracy: 1.0000 - val_loss: 22.2205 - val_accuracy: 0.9860\n",
      "Epoch 22/30\n",
      "18/18 [==============================] - 287s 16s/step - loss: 0.0000e+00 - accuracy: 1.0000 - val_loss: 22.2205 - val_accuracy: 0.9860\n",
      "Epoch 23/30\n",
      "18/18 [==============================] - 285s 16s/step - loss: 0.0000e+00 - accuracy: 1.0000 - val_loss: 22.2205 - val_accuracy: 0.9860\n",
      "Epoch 24/30\n",
      "18/18 [==============================] - 283s 16s/step - loss: 0.0000e+00 - accuracy: 1.0000 - val_loss: 22.2205 - val_accuracy: 0.9860\n",
      "Epoch 25/30\n",
      "18/18 [==============================] - 292s 16s/step - loss: 3.5560e-36 - accuracy: 1.0000 - val_loss: 22.2205 - val_accuracy: 0.9860\n",
      "Epoch 26/30\n",
      "18/18 [==============================] - 277s 15s/step - loss: 0.0000e+00 - accuracy: 1.0000 - val_loss: 22.2205 - val_accuracy: 0.9860\n",
      "Epoch 27/30\n",
      "18/18 [==============================] - 380s 21s/step - loss: 0.0000e+00 - accuracy: 1.0000 - val_loss: 22.2205 - val_accuracy: 0.9860\n",
      "Epoch 28/30\n",
      "18/18 [==============================] - 394s 22s/step - loss: 0.0000e+00 - accuracy: 1.0000 - val_loss: 22.2205 - val_accuracy: 0.9860\n",
      "Epoch 29/30\n",
      "18/18 [==============================] - 350s 19s/step - loss: 0.0000e+00 - accuracy: 1.0000 - val_loss: 22.2205 - val_accuracy: 0.9860\n",
      "Epoch 30/30\n",
      "18/18 [==============================] - 365s 20s/step - loss: 0.0000e+00 - accuracy: 1.0000 - val_loss: 22.2205 - val_accuracy: 0.9860\n"
     ]
    }
   ],
   "source": [
    "history = model.fit(\n",
    "    train_dataset,\n",
    "    epochs=30,\n",
    "    validation_data=val_dataset,\n",
    "    callbacks=callbacks\n",
    ")"
   ],
   "metadata": {
    "collapsed": false,
    "ExecuteTime": {
     "start_time": "2023-05-04T18:24:36.674638Z",
     "end_time": "2023-05-04T20:58:34.930960Z"
    }
   }
  },
  {
   "cell_type": "code",
   "execution_count": 83,
   "outputs": [
    {
     "data": {
      "text/plain": "<Figure size 640x480 with 1 Axes>",
      "image/png": "[encoded data removed]"
     },
     "metadata": {},
     "output_type": "display_data"
    },
    {
     "data": {
      "text/plain": "<Figure size 640x480 with 1 Axes>",
      "image/png": "[encoded data removed]"
     },
     "metadata": {},
     "output_type": "display_data"
    },
    {
     "data": {
      "text/plain": "<Figure size 640x480 with 0 Axes>"
     },
     "metadata": {},
     "output_type": "display_data"
    }
   ],
   "source": [
    "import matplotlib.pyplot as plt\n",
    "accuracy = history.history[\"accuracy\"]\n",
    "val_accuracy = history.history[\"val_accuracy\"]\n",
    "loss = history.history[\"loss\"]\n",
    "val_loss = history.history[\"val_loss\"]\n",
    "\n",
    "epochs = range(1, len(accuracy) + 1)\n",
    "plt.plot(epochs, accuracy, \"bo\", label=\"Training Accuracy\")\n",
    "plt.plot(epochs, val_accuracy, \"b\", label=\"Validation Accuracy\")\n",
    "plt.title(\"Training and Validation accuracy\")\n",
    "plt.legend()\n",
    "plt.figure()\n",
    "\n",
    "plt.plot(epochs, loss, \"bo\", label=\"Training Loss\")\n",
    "plt.plot(epochs, val_loss, \"b\", label=\"Validation Loss\")\n",
    "plt.title(\"Training and Validation Loss\")\n",
    "plt.legend()\n",
    "plt.figure()\n",
    "plt.show()"
   ],
   "metadata": {
    "collapsed": false,
    "ExecuteTime": {
     "start_time": "2023-05-04T20:58:42.481556Z",
     "end_time": "2023-05-04T20:58:42.960767Z"
    }
   }
  },
  {
   "cell_type": "code",
   "execution_count": 6,
   "outputs": [
    {
     "name": "stdout",
     "output_type": "stream",
     "text": [
      "Found 224 files belonging to 2 classes.\n",
      "7/7 [==============================] - 34s 5s/step - loss: 184.7191 - accuracy: 0.4688\n",
      "Test accuracy: 0.469 and Test loss: 184.719\n"
     ]
    }
   ],
   "source": [
    "import os\n",
    "import csv\n",
    "import numpy as np\n",
    "from tensorflow import keras\n",
    "\n",
    "\n",
    "path_to_dataset_2 = \"training-data/dataset2/images\"\n",
    "\n",
    "test_dataset = keras.utils.image_dataset_from_directory(\n",
    "    path_to_dataset_2,\n",
    "    class_names=[\"normal\", \"sick\"],\n",
    "    batch_size=32,\n",
    "    image_size=(395, 488),\n",
    ")\n",
    "test_model = keras.models.load_model(\"models/chest_opacities_detection_model_v1.keras\")\n",
    "test_loss, test_accuracy = test_model.evaluate(test_dataset)\n",
    "print(f\"Test accuracy: {test_accuracy:.3f} and Test loss: {test_loss:.3f}\")"
   ],
   "metadata": {
    "collapsed": false,
    "ExecuteTime": {
     "start_time": "2023-05-11T16:14:19.499312Z",
     "end_time": "2023-05-11T16:14:53.427516Z"
    }
   }
  },
  {
   "cell_type": "code",
   "execution_count": null,
   "outputs": [],
   "source": [],
   "metadata": {
    "collapsed": false
   }
  }
 ],
 "metadata": {
  "kernelspec": {
   "display_name": "Python 3",
   "language": "python",
   "name": "python3"
  },
  "language_info": {
   "codemirror_mode": {
    "name": "ipython",
    "version": 2
   },
   "file_extension": ".py",
   "mimetype": "text/x-python",
   "name": "python",
   "nbconvert_exporter": "python",
   "pygments_lexer": "ipython2",
   "version": "2.7.6"
  }
 },
 "nbformat": 4,
 "nbformat_minor": 0
}
