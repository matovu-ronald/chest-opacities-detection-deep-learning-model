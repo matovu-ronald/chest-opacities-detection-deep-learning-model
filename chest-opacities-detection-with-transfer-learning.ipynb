{
 "cells": [
  {
   "cell_type": "code",
   "execution_count": 8,
   "metadata": {
    "collapsed": true,
    "ExecuteTime": {
     "start_time": "2023-05-02T20:51:29.746567Z",
     "end_time": "2023-05-02T20:51:30.931482Z"
    }
   },
   "outputs": [],
   "source": [
    "import numpy as np\n",
    "import seaborn as sns\n",
    "import matplotlib.pyplot as plt\n",
    "import joblib\n",
    "import os\n",
    "from pathlib import Path\n",
    "from keras.applications import vgg19\n",
    "from keras.preprocessing import image\n",
    "from keras.models import model_from_json\n",
    "import cv2"
   ]
  },
  {
   "cell_type": "code",
   "execution_count": 9,
   "outputs": [],
   "source": [
    "# Construct an relative path\n",
    "# os.path.join(os.getcwd(), \"training-data\", ) --- To do later"
   ],
   "metadata": {
    "collapsed": false,
    "ExecuteTime": {
     "start_time": "2023-05-02T20:51:31.853253Z",
     "end_time": "2023-05-02T20:51:31.858963Z"
    }
   }
  },
  {
   "cell_type": "code",
   "execution_count": 10,
   "outputs": [],
   "source": [
    "# Construct the image path using the Path module\n",
    "image_path = Path(\"./training-data/dataset1/known_images\")"
   ],
   "metadata": {
    "collapsed": false,
    "ExecuteTime": {
     "start_time": "2023-05-02T20:51:32.099573Z",
     "end_time": "2023-05-02T20:51:32.101953Z"
    }
   }
  },
  {
   "cell_type": "code",
   "execution_count": 11,
   "outputs": [],
   "source": [
    "# Create array for the images and labels\n",
    "images = []\n",
    "labels = []"
   ],
   "metadata": {
    "collapsed": false,
    "ExecuteTime": {
     "start_time": "2023-05-02T20:51:32.434075Z",
     "end_time": "2023-05-02T20:51:32.435491Z"
    }
   }
  },
  {
   "cell_type": "code",
   "execution_count": 21,
   "outputs": [],
   "source": [
    "# Set a target size for the imagers\n",
    "target_size = (391, 488)"
   ],
   "metadata": {
    "collapsed": false,
    "ExecuteTime": {
     "start_time": "2023-05-02T21:00:13.924570Z",
     "end_time": "2023-05-02T21:00:13.929685Z"
    }
   }
  },
  {
   "cell_type": "code",
   "execution_count": 22,
   "outputs": [],
   "source": [
    "# Load all the normal images and create labels for them\n",
    "for img in image_path.glob(\"normal*.png\"):\n",
    "    # Load images from the disk\n",
    "    img = image.image_utils.load_img(img, target_size=target_size)\n",
    "\n",
    "    # Convert the image to numpy array\n",
    "    image_array = image.image_utils.img_to_array(img)\n",
    "\n",
    "    # Add the image to a list of images\n",
    "    images.append(image_array)\n",
    "\n",
    "    # For each dog image, the label should 1\n",
    "    labels.append(0)"
   ],
   "metadata": {
    "collapsed": false,
    "ExecuteTime": {
     "start_time": "2023-05-02T21:00:14.886753Z",
     "end_time": "2023-05-02T21:00:15.877689Z"
    }
   }
  },
  {
   "cell_type": "code",
   "execution_count": 24,
   "outputs": [],
   "source": [
    "# Load all the opacity images and create labels for them\n",
    "for img in image_path.glob(\"sick*.png\"):\n",
    "    # Load images from the disk\n",
    "    img = image.image_utils.load_img(img, target_size=target_size)\n",
    "\n",
    "    # Convert the image to numpy array\n",
    "    image_array = image.image_utils.img_to_array(img)\n",
    "\n",
    "    # Add the image to a list of images\n",
    "    images.append(image_array)\n",
    "\n",
    "    # For each dog image, the label should 1\n",
    "    labels.append(1)"
   ],
   "metadata": {
    "collapsed": false,
    "ExecuteTime": {
     "start_time": "2023-05-02T21:01:00.425141Z",
     "end_time": "2023-05-02T21:01:01.570033Z"
    }
   }
  },
  {
   "cell_type": "code",
   "execution_count": 25,
   "outputs": [],
   "source": [
    "# Create a numpy array of all the images\n",
    "X_train = np.array(images)\n",
    "\n",
    "# Create a numpy array of all the labels\n",
    "Y_train = np.array(labels)"
   ],
   "metadata": {
    "collapsed": false,
    "ExecuteTime": {
     "start_time": "2023-05-02T21:01:04.880733Z",
     "end_time": "2023-05-02T21:01:05.911818Z"
    }
   }
  },
  {
   "cell_type": "code",
   "execution_count": null,
   "outputs": [],
   "source": [],
   "metadata": {
    "collapsed": false
   }
  }
 ],
 "metadata": {
  "kernelspec": {
   "display_name": "Python 3",
   "language": "python",
   "name": "python3"
  },
  "language_info": {
   "codemirror_mode": {
    "name": "ipython",
    "version": 2
   },
   "file_extension": ".py",
   "mimetype": "text/x-python",
   "name": "python",
   "nbconvert_exporter": "python",
   "pygments_lexer": "ipython2",
   "version": "2.7.6"
  }
 },
 "nbformat": 4,
 "nbformat_minor": 0
}
