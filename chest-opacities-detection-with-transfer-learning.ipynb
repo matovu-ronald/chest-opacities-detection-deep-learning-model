{
 "cells": [
  {
   "cell_type": "code",
   "execution_count": 1,
   "metadata": {
    "collapsed": true,
    "ExecuteTime": {
     "start_time": "2023-05-02T13:19:20.311883Z",
     "end_time": "2023-05-02T13:19:23.456874Z"
    }
   },
   "outputs": [],
   "source": [
    "import numpy as np\n",
    "import seaborn as sns\n",
    "import matplotlib.pyplot as plt\n",
    "import joblib\n",
    "import os\n",
    "from pathlib import Path\n",
    "from keras.applications import vgg19\n",
    "from keras.preprocessing import image\n",
    "from keras.models import model_from_json"
   ]
  },
  {
   "cell_type": "code",
   "execution_count": null,
   "outputs": [],
   "source": [
    "# Construct an relative path\n",
    "# os.path.join(os.getcwd(), \"training-data\", ) --- To do later"
   ],
   "metadata": {
    "collapsed": false
   }
  },
  {
   "cell_type": "code",
   "execution_count": 3,
   "outputs": [],
   "source": [
    "# Construct the image path using the Path module\n",
    "image_path = Path(\"./training-data/dataset1/known_images\")"
   ],
   "metadata": {
    "collapsed": false,
    "ExecuteTime": {
     "start_time": "2023-05-02T14:07:36.147325Z",
     "end_time": "2023-05-02T14:07:36.149985Z"
    }
   }
  },
  {
   "cell_type": "code",
   "execution_count": 4,
   "outputs": [],
   "source": [
    "# Create array for the images and labels\n",
    "images = []\n",
    "labels = []"
   ],
   "metadata": {
    "collapsed": false,
    "ExecuteTime": {
     "start_time": "2023-05-02T14:08:24.652980Z",
     "end_time": "2023-05-02T14:08:24.659340Z"
    }
   }
  },
  {
   "cell_type": "code",
   "execution_count": 5,
   "outputs": [],
   "source": [
    "# Load all the normal images and create labels for them\n",
    "for img in image_path.glob(\"normal*.png\"):\n",
    "    # Load images from the disk\n",
    "    img = image.image_utils.load_img(img)\n",
    "\n",
    "    # Convert the image to numpy array\n",
    "    image_array = image.image_utils.img_to_array(img)\n",
    "\n",
    "    # Add the image to a list of images\n",
    "    images.append(image_array)\n",
    "\n",
    "    # For each dog image, the label should 1\n",
    "    labels.append(0)"
   ],
   "metadata": {
    "collapsed": false,
    "ExecuteTime": {
     "start_time": "2023-05-02T14:12:46.859644Z",
     "end_time": "2023-05-02T14:12:48.284439Z"
    }
   }
  },
  {
   "cell_type": "code",
   "execution_count": 6,
   "outputs": [],
   "source": [
    "# Load all the opacity images and create labels for them\n",
    "for img in image_path.glob(\"sick*.png\"):\n",
    "    # Load images from the disk\n",
    "    img = image.image_utils.load_img(img)\n",
    "\n",
    "    # Convert the image to numpy array\n",
    "    image_array = image.image_utils.img_to_array(img)\n",
    "\n",
    "    # Add the image to a list of images\n",
    "    images.append(image_array)\n",
    "\n",
    "    # For each dog image, the label should 1\n",
    "    labels.append(1)"
   ],
   "metadata": {
    "collapsed": false,
    "ExecuteTime": {
     "start_time": "2023-05-02T14:13:47.877984Z",
     "end_time": "2023-05-02T14:13:49.193929Z"
    }
   }
  },
  {
   "cell_type": "code",
   "execution_count": null,
   "outputs": [],
   "source": [],
   "metadata": {
    "collapsed": false
   }
  }
 ],
 "metadata": {
  "kernelspec": {
   "display_name": "Python 3",
   "language": "python",
   "name": "python3"
  },
  "language_info": {
   "codemirror_mode": {
    "name": "ipython",
    "version": 2
   },
   "file_extension": ".py",
   "mimetype": "text/x-python",
   "name": "python",
   "nbconvert_exporter": "python",
   "pygments_lexer": "ipython2",
   "version": "2.7.6"
  }
 },
 "nbformat": 4,
 "nbformat_minor": 0
}
