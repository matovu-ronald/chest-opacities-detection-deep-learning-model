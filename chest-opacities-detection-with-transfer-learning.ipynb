{
 "cells": [
  {
   "cell_type": "code",
   "execution_count": 8,
   "metadata": {
    "collapsed": true,
    "ExecuteTime": {
     "start_time": "2023-05-02T20:51:29.746567Z",
     "end_time": "2023-05-02T20:51:30.931482Z"
    }
   },
   "outputs": [],
   "source": [
    "import numpy as np\n",
    "import seaborn as sns\n",
    "import matplotlib.pyplot as plt\n",
    "import joblib\n",
    "import os\n",
    "from pathlib import Path\n",
    "from keras.applications import vgg19\n",
    "from keras.preprocessing import image\n",
    "from keras.models import model_from_json\n",
    "import cv2"
   ]
  },
  {
   "cell_type": "code",
   "execution_count": 9,
   "outputs": [],
   "source": [
    "# Construct an relative path\n",
    "# os.path.join(os.getcwd(), \"training-data\", ) --- To do later"
   ],
   "metadata": {
    "collapsed": false,
    "ExecuteTime": {
     "start_time": "2023-05-02T20:51:31.853253Z",
     "end_time": "2023-05-02T20:51:31.858963Z"
    }
   }
  },
  {
   "cell_type": "code",
   "execution_count": 10,
   "outputs": [],
   "source": [
    "# Construct the image path using the Path module\n",
    "image_path = Path(\"./training-data/dataset1/known_images\")"
   ],
   "metadata": {
    "collapsed": false,
    "ExecuteTime": {
     "start_time": "2023-05-02T20:51:32.099573Z",
     "end_time": "2023-05-02T20:51:32.101953Z"
    }
   }
  },
  {
   "cell_type": "code",
   "execution_count": 11,
   "outputs": [],
   "source": [
    "# Create array for the images and labels\n",
    "images = []\n",
    "labels = []"
   ],
   "metadata": {
    "collapsed": false,
    "ExecuteTime": {
     "start_time": "2023-05-02T20:51:32.434075Z",
     "end_time": "2023-05-02T20:51:32.435491Z"
    }
   }
  },
  {
   "cell_type": "code",
   "execution_count": 21,
   "outputs": [],
   "source": [
    "# Set a target size for the imagers\n",
    "target_size = (391, 488)"
   ],
   "metadata": {
    "collapsed": false,
    "ExecuteTime": {
     "start_time": "2023-05-02T21:00:13.924570Z",
     "end_time": "2023-05-02T21:00:13.929685Z"
    }
   }
  },
  {
   "cell_type": "code",
   "execution_count": 22,
   "outputs": [],
   "source": [
    "# Load all the normal images and create labels for them\n",
    "for img in image_path.glob(\"normal*.png\"):\n",
    "    # Load images from the disk\n",
    "    img = image.image_utils.load_img(img, target_size=target_size)\n",
    "\n",
    "    # Convert the image to numpy array\n",
    "    image_array = image.image_utils.img_to_array(img)\n",
    "\n",
    "    # Add the image to a list of images\n",
    "    images.append(image_array)\n",
    "\n",
    "    # For each dog image, the label should 1\n",
    "    labels.append(0)"
   ],
   "metadata": {
    "collapsed": false,
    "ExecuteTime": {
     "start_time": "2023-05-02T21:00:14.886753Z",
     "end_time": "2023-05-02T21:00:15.877689Z"
    }
   }
  },
  {
   "cell_type": "code",
   "execution_count": 24,
   "outputs": [],
   "source": [
    "# Load all the opacity images and create labels for them\n",
    "for img in image_path.glob(\"sick*.png\"):\n",
    "    # Load images from the disk\n",
    "    img = image.image_utils.load_img(img, target_size=target_size)\n",
    "\n",
    "    # Convert the image to numpy array\n",
    "    image_array = image.image_utils.img_to_array(img)\n",
    "\n",
    "    # Add the image to a list of images\n",
    "    images.append(image_array)\n",
    "\n",
    "    # For each dog image, the label should 1\n",
    "    labels.append(1)"
   ],
   "metadata": {
    "collapsed": false,
    "ExecuteTime": {
     "start_time": "2023-05-02T21:01:00.425141Z",
     "end_time": "2023-05-02T21:01:01.570033Z"
    }
   }
  },
  {
   "cell_type": "code",
   "execution_count": 25,
   "outputs": [],
   "source": [
    "# Create a numpy array of all the images\n",
    "X_train = np.array(images)\n",
    "\n",
    "# Create a numpy array of all the labels\n",
    "Y_train = np.array(labels)"
   ],
   "metadata": {
    "collapsed": false,
    "ExecuteTime": {
     "start_time": "2023-05-02T21:01:04.880733Z",
     "end_time": "2023-05-02T21:01:05.911818Z"
    }
   }
  },
  {
   "cell_type": "code",
   "execution_count": 28,
   "outputs": [
    {
     "data": {
      "text/plain": "(715, 391, 488, 3)"
     },
     "execution_count": 28,
     "metadata": {},
     "output_type": "execute_result"
    }
   ],
   "source": [
    "X_train.shape"
   ],
   "metadata": {
    "collapsed": false,
    "ExecuteTime": {
     "start_time": "2023-05-02T21:08:00.417953Z",
     "end_time": "2023-05-02T21:08:00.421016Z"
    }
   }
  },
  {
   "cell_type": "code",
   "execution_count": 26,
   "outputs": [],
   "source": [
    "# Normalize image data from (0 - 255) to (0 - 1)\n",
    "X_train = vgg19.preprocess_input(X_train);"
   ],
   "metadata": {
    "collapsed": false,
    "ExecuteTime": {
     "start_time": "2023-05-02T21:04:52.723697Z",
     "end_time": "2023-05-02T21:04:54.548120Z"
    }
   }
  },
  {
   "cell_type": "code",
   "execution_count": 29,
   "outputs": [],
   "source": [
    "# Load a pre-trained neural network to use as feature extractor\n",
    "pre_trained_neural_network = vgg19.VGG19(weights=\"imagenet\", include_top=False, input_shape=(391, 488, 3))"
   ],
   "metadata": {
    "collapsed": false,
    "ExecuteTime": {
     "start_time": "2023-05-02T21:13:38.180070Z",
     "end_time": "2023-05-02T21:13:38.788184Z"
    }
   }
  },
  {
   "cell_type": "code",
   "execution_count": 30,
   "outputs": [
    {
     "name": "stderr",
     "output_type": "stream",
     "text": [
      "2023-05-02 21:14:42.269476: W tensorflow/core/platform/profile_utils/cpu_utils.cc:128] Failed to get CPU frequency: 0 Hz\n"
     ]
    },
    {
     "name": "stdout",
     "output_type": "stream",
     "text": [
      "23/23 [==============================] - 338s 15s/step\n"
     ]
    }
   ],
   "source": [
    "# Extract features for each image\n",
    "features_X = pre_trained_neural_network.predict(X_train)"
   ],
   "metadata": {
    "collapsed": false,
    "ExecuteTime": {
     "start_time": "2023-05-02T21:14:38.206696Z",
     "end_time": "2023-05-02T21:20:20.738884Z"
    }
   }
  },
  {
   "cell_type": "code",
   "execution_count": 31,
   "outputs": [
    {
     "data": {
      "text/plain": "['X_train.dat']"
     },
     "execution_count": 31,
     "metadata": {},
     "output_type": "execute_result"
    }
   ],
   "source": [
    "# Save the array of extracted features to a file\n",
    "joblib.dump(features_X, \"X_train.dat\")"
   ],
   "metadata": {
    "collapsed": false,
    "ExecuteTime": {
     "start_time": "2023-05-02T21:22:49.835230Z",
     "end_time": "2023-05-02T21:22:50.089086Z"
    }
   }
  },
  {
   "cell_type": "code",
   "execution_count": 32,
   "outputs": [
    {
     "data": {
      "text/plain": "['Y_train.dat']"
     },
     "execution_count": 32,
     "metadata": {},
     "output_type": "execute_result"
    }
   ],
   "source": [
    "# save the matching array of labels to the file\n",
    "joblib.dump(Y_train, \"Y_train.dat\")"
   ],
   "metadata": {
    "collapsed": false,
    "ExecuteTime": {
     "start_time": "2023-05-02T21:23:39.563810Z",
     "end_time": "2023-05-02T21:23:39.581443Z"
    }
   }
  },
  {
   "cell_type": "code",
   "execution_count": 33,
   "outputs": [],
   "source": [
    "# Load the features and labels from teh .dat files\n",
    "X_train = joblib.load(\"X_train.dat\")\n",
    "Y_train = joblib.load(\"Y_train.dat\")"
   ],
   "metadata": {
    "collapsed": false,
    "ExecuteTime": {
     "start_time": "2023-05-02T21:25:19.604400Z",
     "end_time": "2023-05-02T21:25:19.724670Z"
    }
   }
  },
  {
   "cell_type": "code",
   "execution_count": 34,
   "outputs": [],
   "source": [
    "from keras.models import Sequential\n",
    "from keras.layers import Dense, Flatten, Dropout"
   ],
   "metadata": {
    "collapsed": false,
    "ExecuteTime": {
     "start_time": "2023-05-02T21:26:23.287299Z",
     "end_time": "2023-05-02T21:26:23.311048Z"
    }
   }
  },
  {
   "cell_type": "code",
   "execution_count": 38,
   "outputs": [],
   "source": [
    "# Create a model and add layers\n",
    "model = Sequential()\n",
    "\n",
    "# Flatten the input from the vgg19 model convolution nn\n",
    "model.add(Flatten(input_shape=X_train.shape[1:]))\n",
    "\n",
    "model.add(Dense(256, activation=\"relu\"))\n",
    "model.add(Dropout(0.5))\n",
    "model.add(Dense(1, activation=\"sigmoid\"))"
   ],
   "metadata": {
    "collapsed": false,
    "ExecuteTime": {
     "start_time": "2023-05-02T21:32:31.532846Z",
     "end_time": "2023-05-02T21:32:31.638991Z"
    }
   }
  },
  {
   "cell_type": "code",
   "execution_count": 39,
   "outputs": [],
   "source": [
    "# Compile the model\n",
    "model.compile(\n",
    "    loss=\"binary_crossentropy\",\n",
    "    optimizer=\"adam\",\n",
    "    metrics=[\"accuracy\"]\n",
    ")"
   ],
   "metadata": {
    "collapsed": false,
    "ExecuteTime": {
     "start_time": "2023-05-02T21:32:32.635261Z",
     "end_time": "2023-05-02T21:32:32.646068Z"
    }
   }
  },
  {
   "cell_type": "code",
   "execution_count": 42,
   "outputs": [
    {
     "name": "stdout",
     "output_type": "stream",
     "text": [
      "Epoch 1/10\n",
      "23/23 [==============================] - 1s 40ms/step - loss: 4.5736e-08 - accuracy: 1.0000\n",
      "Epoch 2/10\n",
      "23/23 [==============================] - 1s 37ms/step - loss: 0.0849 - accuracy: 0.9930\n",
      "Epoch 3/10\n",
      "23/23 [==============================] - 1s 36ms/step - loss: 0.1162 - accuracy: 0.9888\n",
      "Epoch 4/10\n",
      "23/23 [==============================] - 1s 36ms/step - loss: 0.2917 - accuracy: 0.9916\n",
      "Epoch 5/10\n",
      "23/23 [==============================] - 1s 41ms/step - loss: 3.6329e-07 - accuracy: 1.0000\n",
      "Epoch 6/10\n",
      "23/23 [==============================] - 1s 36ms/step - loss: 1.0018e-08 - accuracy: 1.0000\n",
      "Epoch 7/10\n",
      "23/23 [==============================] - 1s 36ms/step - loss: 0.0486 - accuracy: 0.9986\n",
      "Epoch 8/10\n",
      "23/23 [==============================] - 1s 36ms/step - loss: 0.2639 - accuracy: 0.9902\n",
      "Epoch 9/10\n",
      "23/23 [==============================] - 1s 35ms/step - loss: 0.2909 - accuracy: 0.9902\n",
      "Epoch 10/10\n",
      "23/23 [==============================] - 1s 37ms/step - loss: 0.2337 - accuracy: 0.9916\n"
     ]
    },
    {
     "data": {
      "text/plain": "<keras.callbacks.History at 0x151559180>"
     },
     "execution_count": 42,
     "metadata": {},
     "output_type": "execute_result"
    }
   ],
   "source": [
    "# Train the model\n",
    "model.fit(\n",
    "    X_train,\n",
    "    Y_train,\n",
    "    epochs=10,\n",
    "    batch_size=32,\n",
    "    shuffle=True\n",
    ")"
   ],
   "metadata": {
    "collapsed": false,
    "ExecuteTime": {
     "start_time": "2023-05-02T21:33:40.819829Z",
     "end_time": "2023-05-02T21:33:49.549310Z"
    }
   }
  },
  {
   "cell_type": "code",
   "execution_count": 44,
   "outputs": [
    {
     "data": {
      "text/plain": "1464"
     },
     "execution_count": 44,
     "metadata": {},
     "output_type": "execute_result"
    }
   ],
   "source": [
    "# Save the neural network structure\n",
    "model_structure = model.to_json()\n",
    "f = Path(\"./models/transfer-learning/model_structure.json\")\n",
    "f.write_text(model_structure)"
   ],
   "metadata": {
    "collapsed": false,
    "ExecuteTime": {
     "start_time": "2023-05-02T21:36:21.829301Z",
     "end_time": "2023-05-02T21:36:21.839837Z"
    }
   }
  },
  {
   "cell_type": "code",
   "execution_count": 45,
   "outputs": [],
   "source": [
    "# Save the neural network trained weights\n",
    "model.save_weights(\"./models/transfer-learning/model_weights.h5\")"
   ],
   "metadata": {
    "collapsed": false,
    "ExecuteTime": {
     "start_time": "2023-05-02T21:36:50.440878Z",
     "end_time": "2023-05-02T21:36:50.623947Z"
    }
   }
  },
  {
   "cell_type": "code",
   "execution_count": 46,
   "outputs": [],
   "source": [
    "# Load the json file the contains the model structure\n",
    "f = Path(\"./models/transfer-learning/model_structure.json\")\n",
    "model_structure = f.read_text()"
   ],
   "metadata": {
    "collapsed": false,
    "ExecuteTime": {
     "start_time": "2023-05-02T21:38:19.154059Z",
     "end_time": "2023-05-02T21:38:19.166291Z"
    }
   }
  },
  {
   "cell_type": "code",
   "execution_count": 47,
   "outputs": [],
   "source": [
    "# Create the keras model object from the model_structure json data\n",
    "model = model_from_json(model_structure)"
   ],
   "metadata": {
    "collapsed": false,
    "ExecuteTime": {
     "start_time": "2023-05-02T21:38:22.856460Z",
     "end_time": "2023-05-02T21:38:22.980514Z"
    }
   }
  },
  {
   "cell_type": "code",
   "execution_count": 48,
   "outputs": [],
   "source": [
    "# Re-load the models trained weigths\n",
    "model.load_weights(\"./models/transfer-learning/model_weights.h5\")"
   ],
   "metadata": {
    "collapsed": false,
    "ExecuteTime": {
     "start_time": "2023-05-02T21:38:42.990437Z",
     "end_time": "2023-05-02T21:38:43.077186Z"
    }
   }
  },
  {
   "cell_type": "code",
   "execution_count": null,
   "outputs": [],
   "source": [],
   "metadata": {
    "collapsed": false
   }
  }
 ],
 "metadata": {
  "kernelspec": {
   "display_name": "Python 3",
   "language": "python",
   "name": "python3"
  },
  "language_info": {
   "codemirror_mode": {
    "name": "ipython",
    "version": 2
   },
   "file_extension": ".py",
   "mimetype": "text/x-python",
   "name": "python",
   "nbconvert_exporter": "python",
   "pygments_lexer": "ipython2",
   "version": "2.7.6"
  }
 },
 "nbformat": 4,
 "nbformat_minor": 0
}
